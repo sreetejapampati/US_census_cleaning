{
 "cells": [
  {
   "cell_type": "code",
   "execution_count": 3,
   "id": "cc3b9565",
   "metadata": {},
   "outputs": [],
   "source": [
    "import pandas as pd\n",
    "import numpy as np\n",
    "import matplotlib.pyplot as plt\n",
    "import glob\n",
    "\n"
   ]
  },
  {
   "cell_type": "code",
   "execution_count": 6,
   "id": "27c19fa5",
   "metadata": {},
   "outputs": [
    {
     "name": "stdout",
     "output_type": "stream",
     "text": [
      "   Unnamed: 0           State  TotalPop             Hispanic  \\\n",
      "0           0    Rhode Island   1053661  13.356666666666678%   \n",
      "1           1  South Carolina   4777576   5.056684981684991%   \n",
      "2           2    South Dakota    843190  3.2396396396396376%   \n",
      "3           3       Tennessee   6499615   4.720026972353339%   \n",
      "4           4           Texas  26538614   38.04673809068304%   \n",
      "\n",
      "                 White                Black                Native  \\\n",
      "0   74.32541666666665%    5.68291666666667%   0.3462500000000001%   \n",
      "1  62.888736263736185%   28.75091575091577%   0.2923992673992673%   \n",
      "2   82.50090090090092%  1.4238738738738752%    9.417567567567566%   \n",
      "3   73.49008766014822%  18.283816587997297%  0.22663519892110592%   \n",
      "4  44.687908934379145%   11.65004782858236%  0.26114405969007126%   \n",
      "\n",
      "                 Asian                Pacific               Income  \\\n",
      "0  3.2474999999999983%  0.035833333333333335%  $59125.270833333336   \n",
      "1   1.249175824175822%  0.046978021978021964%  $46296.807763401106   \n",
      "2  1.0193693693693688%   0.04189189189189189%   $51805.40540540541   \n",
      "3  1.4072825354012126%   0.04315576534052599%  $47328.083616587355   \n",
      "4  3.6696958102161825%   0.06881576430074614%  $55874.522600500095   \n",
      "\n",
      "             GenderPop  \n",
      "0      510388M_543273F  \n",
      "1    2322409M_2455167F  \n",
      "2      423477M_419713F  \n",
      "3    3167756M_3331859F  \n",
      "4  13171316M_13367298F  \n"
     ]
    }
   ],
   "source": [
    "#2\n",
    "files = glob.glob(\"states*.csv\")\n",
    "df = []\n",
    "for filename in files:\n",
    "  data = pd.read_csv(filename)\n",
    "  df.append(data)\n",
    "us_census = pd.concat(df)\n",
    "print(us_census.head())  \n",
    "\n"
   ]
  },
  {
   "cell_type": "code",
   "execution_count": 7,
   "id": "4cf11e88",
   "metadata": {},
   "outputs": [
    {
     "name": "stdout",
     "output_type": "stream",
     "text": [
      "Index(['Unnamed: 0', 'State', 'TotalPop', 'Hispanic', 'White', 'Black',\n",
      "       'Native', 'Asian', 'Pacific', 'Income', 'GenderPop'],\n",
      "      dtype='object')\n",
      "Unnamed: 0     int64\n",
      "State         object\n",
      "TotalPop       int64\n",
      "Hispanic      object\n",
      "White         object\n",
      "Black         object\n",
      "Native        object\n",
      "Asian         object\n",
      "Pacific       object\n",
      "Income        object\n",
      "GenderPop     object\n",
      "dtype: object\n"
     ]
    }
   ],
   "source": [
    "print(us_census.columns)\n",
    "print(us_census.dtypes)"
   ]
  },
  {
   "cell_type": "code",
   "execution_count": 8,
   "id": "b4cb2f3f",
   "metadata": {},
   "outputs": [
    {
     "name": "stdout",
     "output_type": "stream",
     "text": [
      "   Unnamed: 0           State  TotalPop             Hispanic  \\\n",
      "0           0    Rhode Island   1053661  13.356666666666678%   \n",
      "1           1  South Carolina   4777576   5.056684981684991%   \n",
      "2           2    South Dakota    843190  3.2396396396396376%   \n",
      "3           3       Tennessee   6499615   4.720026972353339%   \n",
      "4           4           Texas  26538614   38.04673809068304%   \n",
      "\n",
      "                 White                Black                Native  \\\n",
      "0   74.32541666666665%    5.68291666666667%   0.3462500000000001%   \n",
      "1  62.888736263736185%   28.75091575091577%   0.2923992673992673%   \n",
      "2   82.50090090090092%  1.4238738738738752%    9.417567567567566%   \n",
      "3   73.49008766014822%  18.283816587997297%  0.22663519892110592%   \n",
      "4  44.687908934379145%   11.65004782858236%  0.26114405969007126%   \n",
      "\n",
      "                 Asian                Pacific               Income  \\\n",
      "0  3.2474999999999983%  0.035833333333333335%  $59125.270833333336   \n",
      "1   1.249175824175822%  0.046978021978021964%  $46296.807763401106   \n",
      "2  1.0193693693693688%   0.04189189189189189%   $51805.40540540541   \n",
      "3  1.4072825354012126%   0.04315576534052599%  $47328.083616587355   \n",
      "4  3.6696958102161825%   0.06881576430074614%  $55874.522600500095   \n",
      "\n",
      "             GenderPop  \n",
      "0      510388M_543273F  \n",
      "1    2322409M_2455167F  \n",
      "2      423477M_419713F  \n",
      "3    3167756M_3331859F  \n",
      "4  13171316M_13367298F  \n"
     ]
    }
   ],
   "source": [
    "print(us_census.head())\n"
   ]
  },
  {
   "cell_type": "code",
   "execution_count": 9,
   "id": "f24523f6",
   "metadata": {},
   "outputs": [],
   "source": [
    "us_census[\"Income\"] = us_census.Income.str[1:]\n",
    "us_census[\"Income\"] = pd.to_numeric(us_census.Income)"
   ]
  },
  {
   "cell_type": "code",
   "execution_count": 10,
   "id": "fca12ddc",
   "metadata": {},
   "outputs": [],
   "source": [
    "gender_split = us_census.GenderPop.str.split('_')\n",
    "us_census[\"Men\"] = gender_split.str.get(0)\n",
    "us_census[\"Women\"] = gender_split.str.get(1)"
   ]
  },
  {
   "cell_type": "code",
   "execution_count": 11,
   "id": "adad2f2a",
   "metadata": {},
   "outputs": [
    {
     "name": "stdout",
     "output_type": "stream",
     "text": [
      "   Unnamed: 0           State  TotalPop             Hispanic  \\\n",
      "0           0    Rhode Island   1053661  13.356666666666678%   \n",
      "1           1  South Carolina   4777576   5.056684981684991%   \n",
      "2           2    South Dakota    843190  3.2396396396396376%   \n",
      "3           3       Tennessee   6499615   4.720026972353339%   \n",
      "4           4           Texas  26538614   38.04673809068304%   \n",
      "\n",
      "                 White                Black                Native  \\\n",
      "0   74.32541666666665%    5.68291666666667%   0.3462500000000001%   \n",
      "1  62.888736263736185%   28.75091575091577%   0.2923992673992673%   \n",
      "2   82.50090090090092%  1.4238738738738752%    9.417567567567566%   \n",
      "3   73.49008766014822%  18.283816587997297%  0.22663519892110592%   \n",
      "4  44.687908934379145%   11.65004782858236%  0.26114405969007126%   \n",
      "\n",
      "                 Asian                Pacific        Income  \\\n",
      "0  3.2474999999999983%  0.035833333333333335%  59125.270833   \n",
      "1   1.249175824175822%  0.046978021978021964%  46296.807763   \n",
      "2  1.0193693693693688%   0.04189189189189189%  51805.405405   \n",
      "3  1.4072825354012126%   0.04315576534052599%  47328.083617   \n",
      "4  3.6696958102161825%   0.06881576430074614%  55874.522601   \n",
      "\n",
      "             GenderPop       Men       Women  \n",
      "0      510388M_543273F    510388    543273.0  \n",
      "1    2322409M_2455167F   2322409   2455167.0  \n",
      "2      423477M_419713F    423477    419713.0  \n",
      "3    3167756M_3331859F   3167756   3331859.0  \n",
      "4  13171316M_13367298F  13171316  13367298.0  \n"
     ]
    }
   ],
   "source": [
    "us_census[\"Men\"] = us_census[\"Men\"].str[:-1]\n",
    "us_census[\"Women\"] = us_census[\"Women\"].str[:-1]\n",
    "\n",
    "us_census[\"Men\"] = pd.to_numeric(us_census.Men)\n",
    "us_census[\"Women\"] = pd.to_numeric(us_census.Women)\n",
    "print(us_census.head())"
   ]
  },
  {
   "cell_type": "code",
   "execution_count": 12,
   "id": "32792cb0",
   "metadata": {},
   "outputs": [
    {
     "data": {
      "image/png": "[encoded data removed]",
      "text/plain": [
       "<Figure size 432x288 with 1 Axes>"
      ]
     },
     "metadata": {
      "needs_background": "light"
     },
     "output_type": "display_data"
    }
   ],
   "source": [
    "plt.scatter(us_census.Women, us_census.Income)\n",
    "plt.show()"
   ]
  },
  {
   "cell_type": "code",
   "execution_count": 13,
   "id": "c3c37e98",
   "metadata": {},
   "outputs": [
    {
     "name": "stdout",
     "output_type": "stream",
     "text": [
      "0      543273.0\n",
      "1     2455167.0\n",
      "2      419713.0\n",
      "3     3331859.0\n",
      "4    13367298.0\n",
      "5     1444150.0\n",
      "0     1444150.0\n",
      "1      318031.0\n",
      "2     4195682.0\n",
      "3     3497739.0\n",
      "4      937789.0\n",
      "5     2890732.0\n",
      "0     3057895.0\n",
      "1     3455936.0\n",
      "2     5038598.0\n",
      "3     2727005.0\n",
      "4     1536358.0\n",
      "5     3081445.0\n",
      "0     3081445.0\n",
      "1      504536.0\n",
      "2      939759.0\n",
      "3     1390901.0\n",
      "4      670717.0\n",
      "5     4561386.0\n",
      "0     5913084.0\n",
      "1     1942789.0\n",
      "2     1990780.0\n",
      "3     6534215.0\n",
      "4     1869213.0\n",
      "5      543273.0\n",
      "0     4561386.0\n",
      "1     1051703.0\n",
      "2    10131373.0\n",
      "3     5049925.0\n",
      "4      353677.0\n",
      "5     5913084.0\n",
      "0     5123362.0\n",
      "1      696428.0\n",
      "2      806083.0\n",
      "3     6556862.0\n",
      "4     3333382.0\n",
      "5     1558931.0\n",
      "0     1558931.0\n",
      "1     1453125.0\n",
      "2     2233145.0\n",
      "3     2364097.0\n",
      "4      679019.0\n",
      "5     3057895.0\n",
      "0     2630239.0\n",
      "1     1841615.0\n",
      "2      478041.0\n",
      "3      340810.0\n",
      "4    10045763.0\n",
      "5     5123362.0\n",
      "0     2489527.0\n",
      "1      349215.0\n",
      "2     3342840.0\n",
      "3     1506295.0\n",
      "4    19334329.0\n",
      "5     2630239.0\n",
      "Name: Women, dtype: float64\n"
     ]
    }
   ],
   "source": [
    "us_census = us_census.fillna(value={\"Women\":us_census.TotalPop - us_census.Men})\n",
    "print(us_census.Women)"
   ]
  },
  {
   "cell_type": "code",
   "execution_count": 14,
   "id": "827f22b2",
   "metadata": {},
   "outputs": [
    {
     "name": "stdout",
     "output_type": "stream",
     "text": [
      "False    60\n",
      "dtype: int64\n"
     ]
    }
   ],
   "source": [
    "duplicates = us_census.duplicated()\n",
    "print(duplicates.value_counts())"
   ]
  },
  {
   "cell_type": "code",
   "execution_count": 15,
   "id": "1f0dbbda",
   "metadata": {},
   "outputs": [
    {
     "name": "stdout",
     "output_type": "stream",
     "text": [
      "False    51\n",
      "dtype: int64\n"
     ]
    }
   ],
   "source": [
    "us_census = us_census.drop_duplicates(subset=['State'])\n",
    "duplicates_check = us_census.duplicated()\n",
    "print(duplicates_check.value_counts())"
   ]
  },
  {
   "cell_type": "code",
   "execution_count": 17,
   "id": "74ad0737",
   "metadata": {},
   "outputs": [
    {
     "data": {
      "image/png": "[encoded data removed]",
      "text/plain": [
       "<Figure size 432x288 with 1 Axes>"
      ]
     },
     "metadata": {
      "needs_background": "light"
     },
     "output_type": "display_data"
    }
   ],
   "source": [
    "plt.cla()\n",
    "plt.scatter(us_census.Women, us_census.Income)\n",
    "plt.show()\n"
   ]
  },
  {
   "cell_type": "code",
   "execution_count": 19,
   "id": "b00ff7fe",
   "metadata": {},
   "outputs": [],
   "source": [
    "us_census['Hispanic'] = us_census.Hispanic.str[:-1]\n",
    "us_census['Hispanic'] = pd.to_numeric(us_census.Hispanic)\n"
   ]
  },
  {
   "cell_type": "code",
   "execution_count": 20,
   "id": "9b73d2f3",
   "metadata": {},
   "outputs": [],
   "source": [
    "us_census['White'] = us_census.White.str[:-1]\n",
    "us_census['White'] = pd.to_numeric(us_census.White)"
   ]
  },
  {
   "cell_type": "code",
   "execution_count": 21,
   "id": "d664f632",
   "metadata": {},
   "outputs": [],
   "source": [
    "us_census['Black'] = us_census.Black.str[:-1]\n",
    "us_census['Black'] = pd.to_numeric(us_census.Black)"
   ]
  },
  {
   "cell_type": "code",
   "execution_count": 23,
   "id": "142d216c",
   "metadata": {},
   "outputs": [],
   "source": [
    "us_census['Native'] = us_census.Native.str[:-1]\n",
    "us_census['Native'] = pd.to_numeric(us_census.Native)\n",
    "us_census['Asian'] = us_census.Asian.str[:-1]\n",
    "us_census['Asian'] = pd.to_numeric(us_census.Asian)\n",
    "us_census['Pacific'] = us_census.Pacific.str[:-1]\n",
    "us_census['Pacific'] = pd.to_numeric(us_census.Pacific)"
   ]
  },
  {
   "cell_type": "code",
   "execution_count": 25,
   "id": "d27c4c7f",
   "metadata": {},
   "outputs": [],
   "source": [
    "us_census = us_census.fillna(value={\n",
    "'Hispanic': us_census.Hispanic.mean(),\n",
    "'White': us_census.White.mean(),\n",
    "'Black': us_census.Black.mean(),\n",
    "'Native': us_census.Native.mean(),\n",
    "'Asian': us_census.Asian.mean(),\n",
    "'Pacific': us_census.Pacific.mean(),\n",
    "})"
   ]
  },
  {
   "cell_type": "code",
   "execution_count": 28,
   "id": "aee6fdf1",
   "metadata": {},
   "outputs": [
    {
     "data": {
      "image/png": "[encoded data removed]",
      "text/plain": [
       "<Figure size 432x288 with 1 Axes>"
      ]
     },
     "metadata": {
      "needs_background": "light"
     },
     "output_type": "display_data"
    }
   ],
   "source": [
    "plt.hist(us_census['Hispanic'])\n",
    "plt.title('Hispanic')\n",
    "plt.show()\n"
   ]
  },
  {
   "cell_type": "code",
   "execution_count": 29,
   "id": "21e0df64",
   "metadata": {},
   "outputs": [
    {
     "data": {
      "image/png": "[encoded data removed]",
      "text/plain": [
       "<Figure size 432x288 with 1 Axes>"
      ]
     },
     "metadata": {
      "needs_background": "light"
     },
     "output_type": "display_data"
    }
   ],
   "source": [
    "plt.hist(us_census['White'])\n",
    "plt.title('White')\n",
    "plt.show()"
   ]
  },
  {
   "cell_type": "code",
   "execution_count": 30,
   "id": "c0252172",
   "metadata": {},
   "outputs": [
    {
     "data": {
      "image/png": "[encoded data removed]",
      "text/plain": [
       "<Figure size 432x288 with 1 Axes>"
      ]
     },
     "metadata": {
      "needs_background": "light"
     },
     "output_type": "display_data"
    },
    {
     "data": {
      "image/png": "[encoded data removed]",
      "text/plain": [
       "<Figure size 432x288 with 1 Axes>"
      ]
     },
     "metadata": {
      "needs_background": "light"
     },
     "output_type": "display_data"
    }
   ],
   "source": [
    "plt.hist(us_census['Black'])\n",
    "plt.title('Black')\n",
    "plt.show()\n"
   ]
  },
  {
   "cell_type": "code",
   "execution_count": 31,
   "id": "a894985c",
   "metadata": {},
   "outputs": [
    {
     "data": {
      "image/png": "[encoded data removed]",
      "text/plain": [
       "<Figure size 432x288 with 1 Axes>"
      ]
     },
     "metadata": {
      "needs_background": "light"
     },
     "output_type": "display_data"
    }
   ],
   "source": [
    "plt.hist(us_census['Native'])\n",
    "plt.title('Native')\n",
    "plt.show()\n"
   ]
  },
  {
   "cell_type": "code",
   "execution_count": 32,
   "id": "feb781a1",
   "metadata": {},
   "outputs": [
    {
     "data": {
      "image/png": "[encoded data removed]",
      "text/plain": [
       "<Figure size 432x288 with 1 Axes>"
      ]
     },
     "metadata": {
      "needs_background": "light"
     },
     "output_type": "display_data"
    }
   ],
   "source": [
    "plt.hist(us_census['Pacific'])\n",
    "plt.title('Pacific')\n",
    "plt.show()"
   ]
  },
  {
   "cell_type": "code",
   "execution_count": 33,
   "id": "62f7f31b",
   "metadata": {},
   "outputs": [
    {
     "data": {
      "image/png": "[encoded data removed]",
      "text/plain": [
       "<Figure size 432x288 with 1 Axes>"
      ]
     },
     "metadata": {
      "needs_background": "light"
     },
     "output_type": "display_data"
    }
   ],
   "source": [
    "plt.hist(us_census['Asian'])\n",
    "plt.title('Asian')\n",
    "plt.show()"
   ]
  },
  {
   "cell_type": "code",
   "execution_count": 34,
   "id": "9a3f7a9b",
   "metadata": {},
   "outputs": [
    {
     "name": "stdout",
     "output_type": "stream",
     "text": [
      "   Unnamed: 0           State  TotalPop   Hispanic      White      Black  \\\n",
      "0           0    Rhode Island   1053661  13.356667  74.325417   5.682917   \n",
      "1           1  South Carolina   4777576   5.056685  62.888736  28.750916   \n",
      "2           2    South Dakota    843190   3.239640  82.500901   1.423874   \n",
      "3           3       Tennessee   6499615   4.720027  73.490088  18.283817   \n",
      "4           4           Texas  26538614  38.046738  44.687909  11.650048   \n",
      "\n",
      "     Native     Asian   Pacific        Income            GenderPop       Men  \\\n",
      "0  3.247500  3.247500  0.035833  59125.270833      510388M_543273F    510388   \n",
      "1  1.249176  1.249176  0.046978  46296.807763    2322409M_2455167F   2322409   \n",
      "2  1.019369  1.019369  0.041892  51805.405405      423477M_419713F    423477   \n",
      "3  1.407283  1.407283  0.043156  47328.083617    3167756M_3331859F   3167756   \n",
      "4  3.669696  3.669696  0.068816  55874.522601  13171316M_13367298F  13171316   \n",
      "\n",
      "        Women  \n",
      "0    543273.0  \n",
      "1   2455167.0  \n",
      "2    419713.0  \n",
      "3   3331859.0  \n",
      "4  13367298.0  \n",
      "Unnamed: 0      int64\n",
      "State          object\n",
      "TotalPop        int64\n",
      "Hispanic      float64\n",
      "White         float64\n",
      "Black         float64\n",
      "Native        float64\n",
      "Asian         float64\n",
      "Pacific       float64\n",
      "Income        float64\n",
      "GenderPop      object\n",
      "Men             int64\n",
      "Women         float64\n",
      "dtype: object\n"
     ]
    }
   ],
   "source": [
    "print(us_census.head())\n",
    "print(us_census.dtypes)"
   ]
  },
  {
   "cell_type": "code",
   "execution_count": null,
   "id": "8fc27b02",
   "metadata": {},
   "outputs": [],
   "source": []
  }
 ],
 "metadata": {
  "kernelspec": {
   "display_name": "Python 3 (ipykernel)",
   "language": "python",
   "name": "python3"
  },
  "language_info": {
   "codemirror_mode": {
    "name": "ipython",
    "version": 3
   },
   "file_extension": ".py",
   "mimetype": "text/x-python",
   "name": "python",
   "nbconvert_exporter": "python",
   "pygments_lexer": "ipython3",
   "version": "3.9.7"
  }
 },
 "nbformat": 4,
 "nbformat_minor": 5
}
